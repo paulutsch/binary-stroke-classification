{
 "cells": [
  {
   "cell_type": "code",
   "execution_count": 1,
   "id": "e18056af",
   "metadata": {
    "_cell_guid": "b1076dfc-b9ad-4769-8c92-a6c4dae69d19",
    "_uuid": "8f2839f25d086af736a60e9eeb907d3b93b6e0e5",
    "execution": {
     "iopub.execute_input": "2023-06-02T13:38:23.463808Z",
     "iopub.status.busy": "2023-06-02T13:38:23.463412Z",
     "iopub.status.idle": "2023-06-02T13:38:23.476735Z",
     "shell.execute_reply": "2023-06-02T13:38:23.475808Z"
    },
    "papermill": {
     "duration": 0.02034,
     "end_time": "2023-06-02T13:38:23.478924",
     "exception": false,
     "start_time": "2023-06-02T13:38:23.458584",
     "status": "completed"
    },
    "tags": []
   },
   "outputs": [
    {
     "name": "stdout",
     "output_type": "stream",
     "text": [
      "/kaggle/input/ida-ml-1-challenge-summer23/sample_submission.csv\n",
      "/kaggle/input/ida-ml-1-challenge-summer23/train.csv\n",
      "/kaggle/input/ida-ml-1-challenge-summer23/test.csv\n"
     ]
    }
   ],
   "source": [
    "import os\n",
    "import matplotlib.pyplot as plt\n",
    "import numpy as np\n",
    "import pandas as pd\n",
    "\n",
    "# List the dataset paths\n",
    "for dirname, _, filenames in os.walk('/kaggle/input'):\n",
    "    for filename in filenames:\n",
    "        print(os.path.join(dirname, filename))"
   ]
  },
  {
   "cell_type": "markdown",
   "id": "7cb83007",
   "metadata": {
    "papermill": {
     "duration": 0.002381,
     "end_time": "2023-06-02T13:38:23.484227",
     "exception": false,
     "start_time": "2023-06-02T13:38:23.481846",
     "status": "completed"
    },
    "tags": []
   },
   "source": [
    "## Load the data\n",
    "\n",
    "If you use a Kaggle notebook, the next cell helps you load the data. Alternatively, you can download it and use local jupyter notebooks. "
   ]
  },
  {
   "cell_type": "code",
   "execution_count": 2,
   "id": "dedb533d",
   "metadata": {
    "execution": {
     "iopub.execute_input": "2023-06-02T13:38:23.491474Z",
     "iopub.status.busy": "2023-06-02T13:38:23.490850Z",
     "iopub.status.idle": "2023-06-02T13:38:23.559010Z",
     "shell.execute_reply": "2023-06-02T13:38:23.557871Z"
    },
    "papermill": {
     "duration": 0.07515,
     "end_time": "2023-06-02T13:38:23.561913",
     "exception": false,
     "start_time": "2023-06-02T13:38:23.486763",
     "status": "completed"
    },
    "tags": []
   },
   "outputs": [],
   "source": [
    "train_df = pd.read_csv(\"/kaggle/input/ida-ml-1-challenge-summer23/train.csv\")\n",
    "test_df = pd.read_csv(\"/kaggle/input/ida-ml-1-challenge-summer23/test.csv\")\n",
    "\n",
    "X_train = train_df.drop(columns=[\"id\", \"stroke\"])\n",
    "y_train = train_df[\"stroke\"]"
   ]
  },
  {
   "cell_type": "markdown",
   "id": "a7c70a7d",
   "metadata": {
    "papermill": {
     "duration": 0.002358,
     "end_time": "2023-06-02T13:38:23.567023",
     "exception": false,
     "start_time": "2023-06-02T13:38:23.564665",
     "status": "completed"
    },
    "tags": []
   },
   "source": [
    "## Save your predictions as a `.csv` file for submission"
   ]
  },
  {
   "cell_type": "code",
   "execution_count": 3,
   "id": "49268bac",
   "metadata": {
    "execution": {
     "iopub.execute_input": "2023-06-02T13:38:23.574461Z",
     "iopub.status.busy": "2023-06-02T13:38:23.573516Z",
     "iopub.status.idle": "2023-06-02T13:38:23.589578Z",
     "shell.execute_reply": "2023-06-02T13:38:23.588460Z"
    },
    "papermill": {
     "duration": 0.022582,
     "end_time": "2023-06-02T13:38:23.592131",
     "exception": false,
     "start_time": "2023-06-02T13:38:23.569549",
     "status": "completed"
    },
    "tags": []
   },
   "outputs": [],
   "source": [
    "random_guess_submission = pd.DataFrame({\n",
    "    \"id\": np.arange(5_000, 6_000), \n",
    "    \"stroke\": np.random.rand(1000),\n",
    "})\n",
    "\n",
    "# Save your predictions as a .csv file\n",
    "random_guess_submission.to_csv(\"random_guess_submission.csv\", index=False)"
   ]
  }
 ],
 "metadata": {
  "kernelspec": {
   "display_name": "Python 3",
   "language": "python",
   "name": "python3"
  },
  "language_info": {
   "codemirror_mode": {
    "name": "ipython",
    "version": 3
   },
   "file_extension": ".py",
   "mimetype": "text/x-python",
   "name": "python",
   "nbconvert_exporter": "python",
   "pygments_lexer": "ipython3",
   "version": "3.10.10"
  },
  "papermill": {
   "default_parameters": {},
   "duration": 12.606616,
   "end_time": "2023-06-02T13:38:24.417200",
   "environment_variables": {},
   "exception": null,
   "input_path": "__notebook__.ipynb",
   "output_path": "__notebook__.ipynb",
   "parameters": {},
   "start_time": "2023-06-02T13:38:11.810584",
   "version": "2.4.0"
  }
 },
 "nbformat": 4,
 "nbformat_minor": 5
}
